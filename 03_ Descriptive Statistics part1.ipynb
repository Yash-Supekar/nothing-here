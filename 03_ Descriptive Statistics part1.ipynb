{
 "cells": [
  {
   "cell_type": "code",
   "execution_count": 1,
   "id": "db92e3ab",
   "metadata": {},
   "outputs": [
    {
     "name": "stdout",
     "output_type": "stream",
     "text": [
      "   sepal_length  sepal_width  petal_length  petal_width species\n",
      "0           5.1          3.5           1.4          0.2  setosa\n",
      "1           4.9          3.0           1.4          0.2  setosa\n",
      "2           4.7          3.2           1.3          0.2  setosa\n",
      "3           4.6          3.1           1.5          0.2  setosa\n",
      "4           5.0          3.6           1.4          0.2  setosa\n",
      "\n",
      "Summary Statistics grouped by 'species':\n",
      "           sepal_length                            sepal_width              \\\n",
      "                   mean median  min  max       std        mean median  min   \n",
      "species                                                                      \n",
      "setosa            5.006    5.0  4.3  5.8  0.352490       3.428    3.4  2.3   \n",
      "versicolor        5.936    5.9  4.9  7.0  0.516171       2.770    2.8  2.0   \n",
      "virginica         6.588    6.5  4.9  7.9  0.635880       2.974    3.0  2.2   \n",
      "\n",
      "                          petal_length                            petal_width  \\\n",
      "            max       std         mean median  min  max       std        mean   \n",
      "species                                                                         \n",
      "setosa      4.4  0.379064        1.462   1.50  1.0  1.9  0.173664       0.246   \n",
      "versicolor  3.4  0.313798        4.260   4.35  3.0  5.1  0.469911       1.326   \n",
      "virginica   3.8  0.322497        5.552   5.55  4.5  6.9  0.551895       2.026   \n",
      "\n",
      "                                       \n",
      "           median  min  max       std  \n",
      "species                                \n",
      "setosa        0.2  0.1  0.6  0.105386  \n",
      "versicolor    1.3  1.0  1.8  0.197753  \n",
      "virginica     2.0  1.4  2.5  0.274650  \n",
      "\n",
      "List of sepal lengths per species:\n",
      "Setosa: [5.1, 4.9, 4.7, 4.6, 5.0] ...\n",
      "Versicolor: [7.0, 6.4, 6.9, 5.5, 6.5] ...\n",
      "Virginica: [6.3, 5.8, 7.1, 6.3, 6.5] ...\n"
     ]
    }
   ],
   "source": [
    "# Import required libraries\n",
    "import pandas as pd\n",
    "import seaborn as sns\n",
    "\n",
    "# Load the iris dataset\n",
    "df = sns.load_dataset('iris')\n",
    "\n",
    "# Display first few rows\n",
    "print(df.head())\n",
    "\n",
    "# Grouping by species (categorical variable) and summarizing numeric columns\n",
    "summary_stats = df.groupby('species').agg(['mean', 'median', 'min', 'max', 'std'])\n",
    "\n",
    "print(\"\\nSummary Statistics grouped by 'species':\")\n",
    "print(summary_stats)\n",
    "\n",
    "# Create list of numeric values for each response to the categorical variable\n",
    "grouped_data = df.groupby('species')\n",
    "\n",
    "# Creating lists per species\n",
    "setosa_sepal_length = grouped_data.get_group('setosa')['sepal_length'].tolist()\n",
    "versicolor_sepal_length = grouped_data.get_group('versicolor')['sepal_length'].tolist()\n",
    "virginica_sepal_length = grouped_data.get_group('virginica')['sepal_length'].tolist()\n",
    "\n",
    "print(\"\\nList of sepal lengths per species:\")\n",
    "print(\"Setosa:\", setosa_sepal_length[:5], \"...\")  # showing only first 5 for brevity\n",
    "print(\"Versicolor:\", versicolor_sepal_length[:5], \"...\")\n",
    "print(\"Virginica:\", virginica_sepal_length[:5], \"...\")\n"
   ]
  }
 ],
 "metadata": {
  "kernelspec": {
   "display_name": "Python 3",
   "language": "python",
   "name": "python3"
  },
  "language_info": {
   "codemirror_mode": {
    "name": "ipython",
    "version": 3
   },
   "file_extension": ".py",
   "mimetype": "text/x-python",
   "name": "python",
   "nbconvert_exporter": "python",
   "pygments_lexer": "ipython3",
   "version": "3.13.0"
  }
 },
 "nbformat": 4,
 "nbformat_minor": 5
}
